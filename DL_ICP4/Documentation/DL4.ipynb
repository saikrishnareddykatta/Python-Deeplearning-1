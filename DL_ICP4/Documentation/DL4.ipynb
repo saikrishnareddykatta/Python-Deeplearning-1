{
  "nbformat": 4,
  "nbformat_minor": 0,
  "metadata": {
    "colab": {
      "name": "Untitled7.ipynb",
      "provenance": []
    },
    "kernelspec": {
      "name": "python3",
      "display_name": "Python 3"
    },
    "accelerator": "GPU"
  },
  "cells": [
    {
      "cell_type": "code",
      "metadata": {
        "id": "ypuDwdwnsbmH",
        "colab_type": "code",
        "colab": {
          "base_uri": "https://localhost:8080/",
          "height": 1000
        },
        "outputId": "b9e00359-79b4-447c-990d-e1c6f6dd36f6"
      },
      "source": [
        "# Simple CNN model for CIFAR-10\n",
        "import numpy\n",
        "from keras.datasets import cifar10\n",
        "from keras.models import Sequential\n",
        "from keras.layers import Dense\n",
        "from keras.layers import Dropout\n",
        "from keras.layers import Flatten\n",
        "from keras.constraints import maxnorm\n",
        "from keras.optimizers import SGD\n",
        "from keras.layers.convolutional import Conv2D\n",
        "from keras.layers.convolutional import MaxPooling2D\n",
        "from keras.utils import np_utils\n",
        "from keras import backend as K\n",
        "\n",
        "K.common.set_image_dim_ordering('th')\n",
        "\n",
        "# fix random seed for reproducibility\n",
        "seed = 7\n",
        "numpy.random.seed(seed)\n",
        "# load data\n",
        "(X_train, y_train), (X_test, y_test) = cifar10.load_data()\n",
        "# normalize inputs from 0-255 to 0.0-1.0\n",
        "X_train = X_train.astype('float32')\n",
        "X_test = X_test.astype('float32')\n",
        "X_train = X_train / 255.0\n",
        "X_test = X_test / 255.0\n",
        "# one hot encode outputs\n",
        "y_train = np_utils.to_categorical(y_train)\n",
        "y_test = np_utils.to_categorical(y_test)\n",
        "num_classes = y_test.shape[1]\n",
        "# Create the model\n",
        "model = Sequential()\n",
        "model.add(Conv2D(32, (3, 3), input_shape=(32, 32, 3), padding='same', activation='relu', kernel_constraint=maxnorm(3)))\n",
        "model.add(Dropout(0.2))\n",
        "model.add(Conv2D(32, (3, 3), activation='relu', padding='same', kernel_constraint=maxnorm(3)))\n",
        "model.add(MaxPooling2D(pool_size=(2, 2)))\n",
        "\n",
        "model.add(Flatten())\n",
        "model.add(Dropout(0.2))\n",
        "\n",
        "model.add(Dense(512, activation='relu', kernel_constraint=maxnorm(3)))\n",
        "model.add(Dropout(0.5))\n",
        "model.add(Dense(num_classes, activation='softmax'))\n",
        "# Compile model\n",
        "epochs = 25\n",
        "lrate = 0.01\n",
        "decay = lrate/epochs\n",
        "sgd = SGD(lr=lrate, momentum=0.9, decay=decay, nesterov=False)\n",
        "model.compile(loss='categorical_crossentropy', optimizer=sgd, metrics=['accuracy'])\n",
        "print(model.summary())\n",
        "# Fit the model\n",
        "history = model.fit(X_train, y_train, validation_data=(X_test, y_test), epochs=epochs, batch_size=32)\n",
        "# Final evaluation of the model\n",
        "scores = model.evaluate(X_test, y_test, verbose=0)\n",
        "print(\"Accuracy: %.2f%%\" % (scores[1]*100))\n",
        "\n",
        "#Saving this model\n",
        "model.save(\"oldmodel.h5\")\n"
      ],
      "execution_count": 5,
      "outputs": [
        {
          "output_type": "stream",
          "text": [
            "Model: \"sequential_4\"\n",
            "_________________________________________________________________\n",
            "Layer (type)                 Output Shape              Param #   \n",
            "=================================================================\n",
            "conv2d_15 (Conv2D)           (None, 32, 32, 32)        896       \n",
            "_________________________________________________________________\n",
            "dropout_18 (Dropout)         (None, 32, 32, 32)        0         \n",
            "_________________________________________________________________\n",
            "conv2d_16 (Conv2D)           (None, 32, 32, 32)        9248      \n",
            "_________________________________________________________________\n",
            "max_pooling2d_8 (MaxPooling2 (None, 16, 16, 32)        0         \n",
            "_________________________________________________________________\n",
            "flatten_4 (Flatten)          (None, 8192)              0         \n",
            "_________________________________________________________________\n",
            "dropout_19 (Dropout)         (None, 8192)              0         \n",
            "_________________________________________________________________\n",
            "dense_11 (Dense)             (None, 512)               4194816   \n",
            "_________________________________________________________________\n",
            "dropout_20 (Dropout)         (None, 512)               0         \n",
            "_________________________________________________________________\n",
            "dense_12 (Dense)             (None, 10)                5130      \n",
            "=================================================================\n",
            "Total params: 4,210,090\n",
            "Trainable params: 4,210,090\n",
            "Non-trainable params: 0\n",
            "_________________________________________________________________\n",
            "None\n",
            "Train on 50000 samples, validate on 10000 samples\n",
            "Epoch 1/25\n",
            "50000/50000 [==============================] - 19s 378us/step - loss: 1.7232 - accuracy: 0.3713 - val_loss: 1.3709 - val_accuracy: 0.5091\n",
            "Epoch 2/25\n",
            "50000/50000 [==============================] - 19s 371us/step - loss: 1.3530 - accuracy: 0.5128 - val_loss: 1.1920 - val_accuracy: 0.5750\n",
            "Epoch 3/25\n",
            "50000/50000 [==============================] - 19s 370us/step - loss: 1.1940 - accuracy: 0.5721 - val_loss: 1.0879 - val_accuracy: 0.6138\n",
            "Epoch 4/25\n",
            "50000/50000 [==============================] - 18s 370us/step - loss: 1.0802 - accuracy: 0.6171 - val_loss: 1.0165 - val_accuracy: 0.6391\n",
            "Epoch 5/25\n",
            "50000/50000 [==============================] - 19s 370us/step - loss: 0.9923 - accuracy: 0.6471 - val_loss: 0.9693 - val_accuracy: 0.6560\n",
            "Epoch 6/25\n",
            "50000/50000 [==============================] - 19s 379us/step - loss: 0.9180 - accuracy: 0.6749 - val_loss: 0.9511 - val_accuracy: 0.6614\n",
            "Epoch 7/25\n",
            "50000/50000 [==============================] - 19s 378us/step - loss: 0.8595 - accuracy: 0.6951 - val_loss: 0.9288 - val_accuracy: 0.6764\n",
            "Epoch 8/25\n",
            "50000/50000 [==============================] - 18s 370us/step - loss: 0.8106 - accuracy: 0.7090 - val_loss: 0.9060 - val_accuracy: 0.6798\n",
            "Epoch 9/25\n",
            "50000/50000 [==============================] - 19s 372us/step - loss: 0.7595 - accuracy: 0.7296 - val_loss: 0.8968 - val_accuracy: 0.6849\n",
            "Epoch 10/25\n",
            "50000/50000 [==============================] - 19s 370us/step - loss: 0.7201 - accuracy: 0.7447 - val_loss: 0.8809 - val_accuracy: 0.6950\n",
            "Epoch 11/25\n",
            "50000/50000 [==============================] - 19s 373us/step - loss: 0.6804 - accuracy: 0.7573 - val_loss: 0.8731 - val_accuracy: 0.6982\n",
            "Epoch 12/25\n",
            "50000/50000 [==============================] - 19s 373us/step - loss: 0.6454 - accuracy: 0.7706 - val_loss: 0.8736 - val_accuracy: 0.7044\n",
            "Epoch 13/25\n",
            "50000/50000 [==============================] - 19s 372us/step - loss: 0.6150 - accuracy: 0.7808 - val_loss: 0.8816 - val_accuracy: 0.6993\n",
            "Epoch 14/25\n",
            "50000/50000 [==============================] - 19s 380us/step - loss: 0.5902 - accuracy: 0.7899 - val_loss: 0.8622 - val_accuracy: 0.7076\n",
            "Epoch 15/25\n",
            "50000/50000 [==============================] - 19s 371us/step - loss: 0.5670 - accuracy: 0.7991 - val_loss: 0.8585 - val_accuracy: 0.7088\n",
            "Epoch 16/25\n",
            "50000/50000 [==============================] - 18s 370us/step - loss: 0.5394 - accuracy: 0.8074 - val_loss: 0.8665 - val_accuracy: 0.7097\n",
            "Epoch 17/25\n",
            "50000/50000 [==============================] - 19s 373us/step - loss: 0.5196 - accuracy: 0.8140 - val_loss: 0.8655 - val_accuracy: 0.7110\n",
            "Epoch 18/25\n",
            "50000/50000 [==============================] - 19s 373us/step - loss: 0.4975 - accuracy: 0.8214 - val_loss: 0.8736 - val_accuracy: 0.7107\n",
            "Epoch 19/25\n",
            "50000/50000 [==============================] - 19s 378us/step - loss: 0.4769 - accuracy: 0.8298 - val_loss: 0.8737 - val_accuracy: 0.7130\n",
            "Epoch 20/25\n",
            "50000/50000 [==============================] - 19s 381us/step - loss: 0.4589 - accuracy: 0.8359 - val_loss: 0.8779 - val_accuracy: 0.7137\n",
            "Epoch 21/25\n",
            "50000/50000 [==============================] - 19s 380us/step - loss: 0.4499 - accuracy: 0.8419 - val_loss: 0.8718 - val_accuracy: 0.7145\n",
            "Epoch 22/25\n",
            "50000/50000 [==============================] - 19s 381us/step - loss: 0.4251 - accuracy: 0.8501 - val_loss: 0.8757 - val_accuracy: 0.7150\n",
            "Epoch 23/25\n",
            "50000/50000 [==============================] - 20s 403us/step - loss: 0.4205 - accuracy: 0.8492 - val_loss: 0.8924 - val_accuracy: 0.7138\n",
            "Epoch 24/25\n",
            "50000/50000 [==============================] - 19s 382us/step - loss: 0.4012 - accuracy: 0.8570 - val_loss: 0.8884 - val_accuracy: 0.7166\n",
            "Epoch 25/25\n",
            "50000/50000 [==============================] - 19s 381us/step - loss: 0.3884 - accuracy: 0.8616 - val_loss: 0.8956 - val_accuracy: 0.7178\n",
            "Accuracy: 71.78%\n"
          ],
          "name": "stdout"
        }
      ]
    },
    {
      "cell_type": "markdown",
      "metadata": {
        "id": "luty_mOAPt6l",
        "colab_type": "text"
      },
      "source": [
        ""
      ]
    },
    {
      "cell_type": "code",
      "metadata": {
        "id": "jkAmRpJIF0jN",
        "colab_type": "code",
        "colab": {
          "base_uri": "https://localhost:8080/",
          "height": 295
        },
        "outputId": "aa1c63d7-4de4-4730-98fb-6034db25ff3f"
      },
      "source": [
        "import numpy as np\n",
        "plt.plot(np.arange(0, 25), history.history[\"val_loss\"], label=\"validation loss\")\n",
        "plt.plot(np.arange(0, 25), history.history[\"val_accuracy\"], label=\"validation accuracy\")\n",
        "plt.title(\"The loss and accuracy for both validation data without additional parameters\")\n",
        "plt.xlabel(\"Epoch #\")\n",
        "plt.ylabel(\"Loss/Accuracy\")\n",
        "plt.show()"
      ],
      "execution_count": 9,
      "outputs": [
        {
          "output_type": "display_data",
          "data": {
            "image/png": "[encoded data removed]",
            "text/plain": [
              "<Figure size 432x288 with 1 Axes>"
            ]
          },
          "metadata": {
            "tags": [],
            "needs_background": "light"
          }
        }
      ]
    },
    {
      "cell_type": "code",
      "metadata": {
        "id": "o2Bne5g7G88I",
        "colab_type": "code",
        "colab": {
          "base_uri": "https://localhost:8080/",
          "height": 1000
        },
        "outputId": "8ee319c8-0d52-4a7f-d224-b33e9129bb71"
      },
      "source": [
        "# Simple CNN model for CIFAR-10\n",
        "import numpy\n",
        "from keras.datasets import cifar10\n",
        "from keras.models import Sequential\n",
        "from keras.layers import Dense\n",
        "from keras.layers import Dropout\n",
        "from keras.layers import Flatten\n",
        "from keras.constraints import maxnorm\n",
        "from keras.optimizers import SGD\n",
        "from keras.layers.convolutional import Conv2D\n",
        "from keras.layers.convolutional import MaxPooling2D\n",
        "from keras.utils import np_utils\n",
        "from keras import backend as K\n",
        "\n",
        "K.common.set_image_dim_ordering('th')\n",
        "\n",
        "# fix random seed for reproducibility\n",
        "seed = 7\n",
        "numpy.random.seed(seed)\n",
        "# load data\n",
        "(X_train, y_train), (X_test, y_test) = cifar10.load_data()\n",
        "# normalize inputs from 0-255 to 0.0-1.0\n",
        "X_train = X_train.astype('float32')\n",
        "X_test = X_test.astype('float32')\n",
        "X_train = X_train / 255.0\n",
        "X_test = X_test / 255.0\n",
        "# one hot encode outputs\n",
        "y_train = np_utils.to_categorical(y_train)\n",
        "y_test = np_utils.to_categorical(y_test)\n",
        "num_classes = y_test.shape[1]\n",
        "# Create the model\n",
        "model = Sequential()\n",
        "model.add(Conv2D(32, (3, 3), input_shape=(32, 32, 3), padding='same', activation='relu', kernel_constraint=maxnorm(3)))\n",
        "model.add(Dropout(0.2))\n",
        "model.add(Conv2D(32, (3, 3), activation='relu', padding='same', kernel_constraint=maxnorm(3)))\n",
        "model.add(MaxPooling2D(pool_size=(2, 2)))\n",
        "model.add(Conv2D(64, (3, 3), padding='same', activation='relu', kernel_constraint=maxnorm(3)))\n",
        "model.add(Dropout(0.2))\n",
        "model.add(Conv2D(64, (3, 3), activation='relu', padding='same', kernel_constraint=maxnorm(3)))\n",
        "model.add(MaxPooling2D(pool_size=(2, 2)))\n",
        "model.add(Conv2D(128, (3, 3),  padding='same', activation='relu', kernel_constraint=maxnorm(3)))\n",
        "model.add(Dropout(0.2))\n",
        "model.add(Conv2D(128, (3, 3), activation='relu', padding='same', kernel_constraint=maxnorm(3)))\n",
        "model.add(MaxPooling2D(pool_size=(2, 2)))\n",
        "model.add(Flatten())\n",
        "model.add(Dropout(0.2))\n",
        "\n",
        "model.add(Dense(1024, activation='relu', kernel_constraint=maxnorm(3)))\n",
        "model.add(Dropout(0.2))\n",
        "\n",
        "model.add(Dense(512, activation='relu', kernel_constraint=maxnorm(3)))\n",
        "model.add(Dropout(0.2))\n",
        "\n",
        "model.add(Dense(512, activation='relu', kernel_constraint=maxnorm(3)))\n",
        "model.add(Dropout(0.5))\n",
        "model.add(Dense(num_classes, activation='softmax'))\n",
        "# Compile model\n",
        "epochs = 25\n",
        "lrate = 0.01\n",
        "decay = lrate/epochs\n",
        "sgd = SGD(lr=lrate, momentum=0.9, decay=decay, nesterov=False)\n",
        "model.compile(loss='categorical_crossentropy', optimizer=sgd, metrics=['accuracy'])\n",
        "print(model.summary())\n",
        "# Fit the model\n",
        "history = model.fit(X_train, y_train, validation_data=(X_test, y_test), epochs=epochs, batch_size=32)\n",
        "# Final evaluation of the model\n",
        "scores = model.evaluate(X_test, y_test, verbose=0)\n",
        "print(\"Accuracy: %.2f%%\" % (scores[1]*100))\n",
        "#Saving this model\n",
        "model.save(\"newmodel.h5\")"
      ],
      "execution_count": 10,
      "outputs": [
        {
          "output_type": "stream",
          "text": [
            "Model: \"sequential_5\"\n",
            "_________________________________________________________________\n",
            "Layer (type)                 Output Shape              Param #   \n",
            "=================================================================\n",
            "conv2d_17 (Conv2D)           (None, 32, 32, 32)        896       \n",
            "_________________________________________________________________\n",
            "dropout_21 (Dropout)         (None, 32, 32, 32)        0         \n",
            "_________________________________________________________________\n",
            "conv2d_18 (Conv2D)           (None, 32, 32, 32)        9248      \n",
            "_________________________________________________________________\n",
            "max_pooling2d_9 (MaxPooling2 (None, 16, 16, 32)        0         \n",
            "_________________________________________________________________\n",
            "conv2d_19 (Conv2D)           (None, 16, 16, 64)        18496     \n",
            "_________________________________________________________________\n",
            "dropout_22 (Dropout)         (None, 16, 16, 64)        0         \n",
            "_________________________________________________________________\n",
            "conv2d_20 (Conv2D)           (None, 16, 16, 64)        36928     \n",
            "_________________________________________________________________\n",
            "max_pooling2d_10 (MaxPooling (None, 8, 8, 64)          0         \n",
            "_________________________________________________________________\n",
            "conv2d_21 (Conv2D)           (None, 8, 8, 128)         73856     \n",
            "_________________________________________________________________\n",
            "dropout_23 (Dropout)         (None, 8, 8, 128)         0         \n",
            "_________________________________________________________________\n",
            "conv2d_22 (Conv2D)           (None, 8, 8, 128)         147584    \n",
            "_________________________________________________________________\n",
            "max_pooling2d_11 (MaxPooling (None, 4, 4, 128)         0         \n",
            "_________________________________________________________________\n",
            "flatten_5 (Flatten)          (None, 2048)              0         \n",
            "_________________________________________________________________\n",
            "dropout_24 (Dropout)         (None, 2048)              0         \n",
            "_________________________________________________________________\n",
            "dense_13 (Dense)             (None, 1024)              2098176   \n",
            "_________________________________________________________________\n",
            "dropout_25 (Dropout)         (None, 1024)              0         \n",
            "_________________________________________________________________\n",
            "dense_14 (Dense)             (None, 512)               524800    \n",
            "_________________________________________________________________\n",
            "dropout_26 (Dropout)         (None, 512)               0         \n",
            "_________________________________________________________________\n",
            "dense_15 (Dense)             (None, 512)               262656    \n",
            "_________________________________________________________________\n",
            "dropout_27 (Dropout)         (None, 512)               0         \n",
            "_________________________________________________________________\n",
            "dense_16 (Dense)             (None, 10)                5130      \n",
            "=================================================================\n",
            "Total params: 3,177,770\n",
            "Trainable params: 3,177,770\n",
            "Non-trainable params: 0\n",
            "_________________________________________________________________\n",
            "None\n",
            "Train on 50000 samples, validate on 10000 samples\n",
            "Epoch 1/25\n",
            "50000/50000 [==============================] - 36s 717us/step - loss: 1.9402 - accuracy: 0.2743 - val_loss: 1.5542 - val_accuracy: 0.4219\n",
            "Epoch 2/25\n",
            "50000/50000 [==============================] - 33s 669us/step - loss: 1.5256 - accuracy: 0.4402 - val_loss: 1.4168 - val_accuracy: 0.4803\n",
            "Epoch 3/25\n",
            "50000/50000 [==============================] - 33s 669us/step - loss: 1.3260 - accuracy: 0.5162 - val_loss: 1.1707 - val_accuracy: 0.5728\n",
            "Epoch 4/25\n",
            "50000/50000 [==============================] - 34s 674us/step - loss: 1.1856 - accuracy: 0.5736 - val_loss: 1.0763 - val_accuracy: 0.6178\n",
            "Epoch 5/25\n",
            "50000/50000 [==============================] - 34s 677us/step - loss: 1.0648 - accuracy: 0.6207 - val_loss: 1.0350 - val_accuracy: 0.6335\n",
            "Epoch 6/25\n",
            "50000/50000 [==============================] - 33s 666us/step - loss: 0.9720 - accuracy: 0.6568 - val_loss: 0.8844 - val_accuracy: 0.6894\n",
            "Epoch 7/25\n",
            "50000/50000 [==============================] - 33s 668us/step - loss: 0.8969 - accuracy: 0.6843 - val_loss: 0.8692 - val_accuracy: 0.6966\n",
            "Epoch 8/25\n",
            "50000/50000 [==============================] - 34s 674us/step - loss: 0.8374 - accuracy: 0.7074 - val_loss: 0.8278 - val_accuracy: 0.7133\n",
            "Epoch 9/25\n",
            "50000/50000 [==============================] - 33s 669us/step - loss: 0.7831 - accuracy: 0.7255 - val_loss: 0.8168 - val_accuracy: 0.7170\n",
            "Epoch 10/25\n",
            "50000/50000 [==============================] - 33s 665us/step - loss: 0.7376 - accuracy: 0.7424 - val_loss: 0.7723 - val_accuracy: 0.7318\n",
            "Epoch 11/25\n",
            "50000/50000 [==============================] - 33s 667us/step - loss: 0.7067 - accuracy: 0.7525 - val_loss: 0.7439 - val_accuracy: 0.7445\n",
            "Epoch 12/25\n",
            "50000/50000 [==============================] - 33s 670us/step - loss: 0.6715 - accuracy: 0.7653 - val_loss: 0.7095 - val_accuracy: 0.7558\n",
            "Epoch 13/25\n",
            "50000/50000 [==============================] - 33s 669us/step - loss: 0.6397 - accuracy: 0.7760 - val_loss: 0.7187 - val_accuracy: 0.7493\n",
            "Epoch 14/25\n",
            "50000/50000 [==============================] - 34s 674us/step - loss: 0.6116 - accuracy: 0.7839 - val_loss: 0.6859 - val_accuracy: 0.7663\n",
            "Epoch 15/25\n",
            "50000/50000 [==============================] - 33s 670us/step - loss: 0.5868 - accuracy: 0.7935 - val_loss: 0.6934 - val_accuracy: 0.7643\n",
            "Epoch 16/25\n",
            "50000/50000 [==============================] - 34s 671us/step - loss: 0.5624 - accuracy: 0.8028 - val_loss: 0.6897 - val_accuracy: 0.7730\n",
            "Epoch 17/25\n",
            "50000/50000 [==============================] - 34s 671us/step - loss: 0.5412 - accuracy: 0.8114 - val_loss: 0.6643 - val_accuracy: 0.7803\n",
            "Epoch 18/25\n",
            "50000/50000 [==============================] - 33s 669us/step - loss: 0.5228 - accuracy: 0.8188 - val_loss: 0.6652 - val_accuracy: 0.7785\n",
            "Epoch 19/25\n",
            "50000/50000 [==============================] - 33s 669us/step - loss: 0.5026 - accuracy: 0.8245 - val_loss: 0.6604 - val_accuracy: 0.7855\n",
            "Epoch 20/25\n",
            "50000/50000 [==============================] - 34s 672us/step - loss: 0.4926 - accuracy: 0.8278 - val_loss: 0.6413 - val_accuracy: 0.7887\n",
            "Epoch 21/25\n",
            "50000/50000 [==============================] - 34s 671us/step - loss: 0.4708 - accuracy: 0.8368 - val_loss: 0.6494 - val_accuracy: 0.7868\n",
            "Epoch 22/25\n",
            "50000/50000 [==============================] - 33s 665us/step - loss: 0.4539 - accuracy: 0.8402 - val_loss: 0.6518 - val_accuracy: 0.7837\n",
            "Epoch 23/25\n",
            "50000/50000 [==============================] - 34s 679us/step - loss: 0.4434 - accuracy: 0.8455 - val_loss: 0.6428 - val_accuracy: 0.7906\n",
            "Epoch 24/25\n",
            "50000/50000 [==============================] - 34s 671us/step - loss: 0.4283 - accuracy: 0.8493 - val_loss: 0.6391 - val_accuracy: 0.7931\n",
            "Epoch 25/25\n",
            "50000/50000 [==============================] - 34s 673us/step - loss: 0.4198 - accuracy: 0.8549 - val_loss: 0.6267 - val_accuracy: 0.7972\n",
            "Accuracy: 79.72%\n"
          ],
          "name": "stdout"
        }
      ]
    },
    {
      "cell_type": "code",
      "metadata": {
        "id": "tHQPzbluHCAq",
        "colab_type": "code",
        "colab": {
          "base_uri": "https://localhost:8080/",
          "height": 295
        },
        "outputId": "197449f3-516c-4ad8-beaf-0e48b6ed1221"
      },
      "source": [
        "import numpy as np\n",
        "plt.plot(np.arange(0, 25), history.history[\"val_loss\"], label=\"validation loss\")\n",
        "plt.plot(np.arange(0, 25), history.history[\"val_accuracy\"], label=\"validation accuracy\")\n",
        "plt.title(\"The loss and accuracy for both validation data after applying additional parameters\")\n",
        "plt.xlabel(\"Epoch #\")\n",
        "plt.ylabel(\"Loss/Accuracy\")\n",
        "plt.show()"
      ],
      "execution_count": 16,
      "outputs": [
        {
          "output_type": "display_data",
          "data": {
            "image/png": "[encoded data removed]",
            "text/plain": [
              "<Figure size 432x288 with 1 Axes>"
            ]
          },
          "metadata": {
            "tags": [],
            "needs_background": "light"
          }
        }
      ]
    },
    {
      "cell_type": "code",
      "metadata": {
        "id": "pPpc5PolI9mi",
        "colab_type": "code",
        "colab": {
          "base_uri": "https://localhost:8080/",
          "height": 151
        },
        "outputId": "f7e69286-5714-4be6-b1df-7d021556799d"
      },
      "source": [
        "model_to_load = \"oldmodel.h5\"\n",
        "model = load_model(model_to_load)\n",
        "# Evaluate is an inbuilt keyword for validating the model\n",
        "loss1, accuracy1 = model.evaluate(X_test, y_test)\n",
        "\n",
        "\n",
        "model_to_load = \"newmodel.h5\"\n",
        "model = load_model(model_to_load)\n",
        "loss2, accuracy2 = model.evaluate(X_test, y_test)\n",
        "\n",
        "print(\"Before adding parameters Accuracy  is : \", accuracy1)\n",
        "print(\"After adding parameters Accuracy  is : \", accuracy2)\n",
        "\n",
        "print(\"The Acccuracy change is \", accuracy2 - accuracy1)\n",
        "\n",
        "print(\"Before adding parameters Loss  is : \", loss1)\n",
        "print(\"After adding parameters Loss  is : \", loss2)\n",
        "\n",
        "print(\"The Loss change is \", loss2 - loss1)\n"
      ],
      "execution_count": 12,
      "outputs": [
        {
          "output_type": "stream",
          "text": [
            "10000/10000 [==============================] - 2s 168us/step\n",
            "10000/10000 [==============================] - 3s 280us/step\n",
            "Before adding parameters Accuracy  is :  0.7178000211715698\n",
            "After adding parameters Accuracy  is :  0.7972000241279602\n",
            "The Acccuracy change is  0.07940000295639038\n",
            "Before adding parameters Loss  is :  0.8955636225700379\n",
            "After adding parameters Loss  is :  0.6266573991775513\n",
            "The Loss change is  -0.2689062233924866\n"
          ],
          "name": "stdout"
        }
      ]
    },
    {
      "cell_type": "code",
      "metadata": {
        "id": "C5ram7IYKjAk",
        "colab_type": "code",
        "colab": {
          "base_uri": "https://localhost:8080/",
          "height": 1000
        },
        "outputId": "d6f04013-442e-4b90-b529-74e2a31b1952"
      },
      "source": [
        "import numpy\n",
        "from keras.datasets import cifar10\n",
        "from keras.utils import np_utils\n",
        "from keras import backend as K\n",
        "from keras.models import load_model\n",
        "import matplotlib.pyplot as plt\n",
        "\n",
        "K.common.set_image_dim_ordering('th')\n",
        "seed = 7\n",
        "numpy.random.seed(seed)\n",
        "# load data\n",
        "(X_train, y_train), (X_test, y_test) = cifar10.load_data()\n",
        "\n",
        "test_images = X_test\n",
        "test_labels = y_test\n",
        "\n",
        "# normalize inputs from 0-255 to 0.0-1.0\n",
        "X_train = X_train.astype('float32')\n",
        "X_test = X_test.astype('float32')\n",
        "X_train = X_train / 255.0\n",
        "X_test = X_test / 255.0\n",
        "# one hot encode outputs\n",
        "y_train = np_utils.to_categorical(y_train)\n",
        "y_test = np_utils.to_categorical(y_test)\n",
        "num_classes = y_test.shape[1]\n",
        "\n",
        "\n",
        "num_to_text = {\n",
        "    0: \"Plane\",\n",
        "    1: \"Car\",\n",
        "    2: \"Bird\",\n",
        "    3: \"Cat\",\n",
        "    4: \"Deer\",\n",
        "    5: \"Dog\",\n",
        "    6: \"Frog\",\n",
        "    7: \"Horse\",\n",
        "    8: \"Ship\",\n",
        "    9: \"Truck\"\n",
        "}\n",
        "\n",
        "model_to_load = \"oldmodel.h5\"\n",
        "model = load_model(model_to_load)\n",
        "\n",
        "def make_prediction(i):\n",
        "    test_img = test_images[i]\n",
        "    test_data= X_test[[i], :]\n",
        "\n",
        "    plt.imshow(test_img, cmap=plt.get_cmap('gray'))\n",
        "    plt.title(\"Model Prediction: {}\".format(num_to_text[model.predict_classes(test_data)[0]]))\n",
        "    plt.show()\n",
        "\n",
        "prediction_idx = [0,1, 2, 3]\n",
        "\n",
        "for idx in prediction_idx:\n",
        "    make_prediction(idx)"
      ],
      "execution_count": 14,
      "outputs": [
        {
          "output_type": "display_data",
          "data": {
            "image/png": "[encoded data removed]",
            "text/plain": [
              "<Figure size 432x288 with 1 Axes>"
            ]
          },
          "metadata": {
            "tags": [],
            "needs_background": "light"
          }
        },
        {
          "output_type": "display_data",
          "data": {
            "image/png": "[encoded data removed]",
            "text/plain": [
              "<Figure size 432x288 with 1 Axes>"
            ]
          },
          "metadata": {
            "tags": [],
            "needs_background": "light"
          }
        },
        {
          "output_type": "display_data",
          "data": {
            "image/png": "[encoded data removed]",
            "text/plain": [
              "<Figure size 432x288 with 1 Axes>"
            ]
          },
          "metadata": {
            "tags": [],
            "needs_background": "light"
          }
        },
        {
          "output_type": "display_data",
          "data": {
            "image/png": "[encoded data removed]",
            "text/plain": [
              "<Figure size 432x288 with 1 Axes>"
            ]
          },
          "metadata": {
            "tags": [],
            "needs_background": "light"
          }
        }
      ]
    }
  ]
}